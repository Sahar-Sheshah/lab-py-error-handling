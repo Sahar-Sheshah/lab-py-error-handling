{
  "cells": [
    {
      "cell_type": "markdown",
      "metadata": {
        "id": "LcHtwIYwL-aA"
      },
      "source": [
        "# LAB | Error Handling in Python\n",
        "\n",
        "## Overview\n",
        "This exercise notebook will help you practice error handling in Python using exceptions. You will write programs that handle various types of exceptions to ensure your code runs smoothly and handles errors gracefully."
      ]
    },
    {
      "cell_type": "markdown",
      "metadata": {
        "id": "1G4MhtlsL-aD"
      },
      "source": [
        "### Exercise 1: Handle ZeroDivisionError\n",
        "Write a Python program to handle a `ZeroDivisionError` exception when dividing a number by zero.\n"
      ]
    },
    {
      "cell_type": "code",
      "execution_count": null,
      "metadata": {
        "colab": {
          "base_uri": "https://localhost:8080/"
        },
        "id": "xkkfuXjHL-aE",
        "outputId": "54af8b77-c492-4616-c81a-5c3524a82c3c"
      },
      "outputs": [
        {
          "output_type": "stream",
          "name": "stdout",
          "text": [
            "Enter a number: 6\n",
            "Error: Division by zero is not allowed!\n",
            "Execution completed.\n"
          ]
        }
      ],
      "source": [
        "# Your code here\n",
        "try:\n",
        "    num = int(input(\"Enter a number: \"))\n",
        "    result = num / 0\n",
        "except ZeroDivisionError:\n",
        "    print(\"Error: Division by zero is not allowed!\")\n",
        "else:\n",
        "    print(\"Result:\", result)\n",
        "finally:\n",
        "    print(\"Execution completed.\")\n"
      ]
    },
    {
      "cell_type": "markdown",
      "metadata": {
        "id": "anC_QnO2L-aF"
      },
      "source": [
        "\n",
        "### Exercise 2: Raise ValueError for Invalid Input\n",
        "Write a Python program that prompts the user to input an integer and raises a `ValueError` exception if the input is not a valid integer.\n",
        "\n"
      ]
    },
    {
      "cell_type": "code",
      "execution_count": null,
      "metadata": {
        "colab": {
          "base_uri": "https://localhost:8080/"
        },
        "id": "NOT2ny6QL-aG",
        "outputId": "e28e8183-4a0f-4e04-d642-591fe66ea805"
      },
      "outputs": [
        {
          "output_type": "stream",
          "name": "stdout",
          "text": [
            "Enter an integer: 6.9\n",
            "Error: Invalid input! Please enter a valid integer.\n"
          ]
        }
      ],
      "source": [
        "# Your code here\n",
        "try:\n",
        "    num = input(\"Enter an integer: \")\n",
        "    if not num.isdigit():\n",
        "        raise ValueError(\"Invalid input! Please enter a valid integer.\")\n",
        "    num = int(num)\n",
        "    print(\"You entered:\", num)\n",
        "except ValueError as e:\n",
        "    print(\"Error:\", e)\n"
      ]
    },
    {
      "cell_type": "markdown",
      "metadata": {
        "id": "qLoYvVJhL-aG"
      },
      "source": [
        "\n",
        "\n",
        "### Exercise 3: Handle FileNotFoundError\n",
        "Write a Python program that opens a file and handles a `FileNotFoundError` exception if the file does not exist.\n",
        "\n"
      ]
    },
    {
      "cell_type": "code",
      "execution_count": null,
      "metadata": {
        "colab": {
          "base_uri": "https://localhost:8080/"
        },
        "id": "-hduBDirL-aH",
        "outputId": "fc59ebef-b504-44f2-df02-d1733729b8b2"
      },
      "outputs": [
        {
          "output_type": "stream",
          "name": "stdout",
          "text": [
            "Error: The file was not found!\n"
          ]
        }
      ],
      "source": [
        "# Your code here\n",
        "try:\n",
        "    with open(\"non_existent_file.txt\", \"r\") as file:\n",
        "        content = file.read()\n",
        "        print(content)\n",
        "except FileNotFoundError:\n",
        "    print(\"Error: The file was not found!\")"
      ]
    },
    {
      "cell_type": "markdown",
      "metadata": {
        "id": "pjkrtA7XL-aH"
      },
      "source": [
        "\n",
        "\n",
        "### Exercise 4: Raise TypeError for Non-Numerical Input\n",
        "Write a Python program that prompts the user to input two numbers and raises a `TypeError` exception if the inputs are not numerical.\n",
        "\n"
      ]
    },
    {
      "cell_type": "code",
      "execution_count": null,
      "metadata": {
        "colab": {
          "base_uri": "https://localhost:8080/"
        },
        "id": "yElXKMcSL-aI",
        "outputId": "870d7bba-3e18-4871-8f0e-d5b96360725b"
      },
      "outputs": [
        {
          "output_type": "stream",
          "name": "stdout",
          "text": [
            "Enter the first number: 6.7.8\n",
            "Enter the second number: 9\n",
            "Error: Invalid input! Please enter numerical values only.\n"
          ]
        }
      ],
      "source": [
        "# Your code here\n",
        "def get_numbers():\n",
        "    try:\n",
        "        num1 = input(\"Enter the first number: \")\n",
        "        num2 = input(\"Enter the second number: \")\n",
        "\n",
        "        if not (num1.replace(\".\", \"\", 1).isdigit() and num2.replace(\".\", \"\", 1).isdigit()):\n",
        "            raise TypeError(\"Invalid input! Please enter numerical values only.\")\n",
        "\n",
        "        num1, num2 = float(num1), float(num2)\n",
        "        print(f\"The sum is: {num1 + num2}\")\n",
        "    except TypeError as e:\n",
        "        print(\"Error:\", e)\n",
        "get_numbers()\n"
      ]
    },
    {
      "cell_type": "markdown",
      "metadata": {
        "id": "b47hHw3DL-aJ"
      },
      "source": [
        "\n",
        "\n",
        "### Exercise 5: Handle PermissionError\n",
        "Write a Python program that opens a file and handles a `PermissionError` exception if there is a permission issue.\n",
        "\n",
        "\n"
      ]
    },
    {
      "cell_type": "code",
      "execution_count": null,
      "metadata": {
        "id": "I_GixpwAL-aJ"
      },
      "outputs": [],
      "source": [
        "# Your code here\n",
        "try:\n",
        "    with open(\"protected_file.txt\", \"w\") as file:\n",
        "        file.write(\"This is a test.\")\n",
        "except PermissionError:\n",
        "    print(\"Error: You do not have permission!\")\n"
      ]
    },
    {
      "cell_type": "markdown",
      "metadata": {
        "id": "AmSM70KZL-aK"
      },
      "source": [
        "\n",
        "\n",
        "### Exercise 6: Handle IndexError in List Operations\n",
        "Write a Python program that executes an operation on a list and handles an `IndexError` exception if the index is out of range.\n",
        "\n",
        "\n"
      ]
    },
    {
      "cell_type": "code",
      "execution_count": null,
      "metadata": {
        "colab": {
          "base_uri": "https://localhost:8080/"
        },
        "id": "WIHOvaYzL-aK",
        "outputId": "1ce0e92c-6ea8-466e-dde9-10bddfd9e4b3"
      },
      "outputs": [
        {
          "output_type": "stream",
          "name": "stdout",
          "text": [
            "Enter an index: 9\n",
            "Error: Index out of range! Please enter a valid index.\n"
          ]
        }
      ],
      "source": [
        "# Your code here\n",
        "try:\n",
        "    numbers = [10, 20, 30]\n",
        "\n",
        "    index = int(input(\"Enter an index: \"))\n",
        "    print(\"Element at index\", index, \"is:\", numbers[index])\n",
        "except IndexError:\n",
        "    print(\"Error: Index out of range! Please enter a valid index.\")\n",
        "except ValueError:\n",
        "    print(\"Error: Please enter a valid integer index.\")\n"
      ]
    },
    {
      "cell_type": "markdown",
      "metadata": {
        "id": "NAt0UWJLL-aK"
      },
      "source": [
        "\n",
        "\n",
        "### Exercise 7: Handle KeyboardInterrupt Exception\n",
        "Write a Python program that prompts the user to input a number and handles a `KeyboardInterrupt` exception if the user cancels the input.\n",
        "\n"
      ]
    },
    {
      "cell_type": "code",
      "execution_count": null,
      "metadata": {
        "colab": {
          "base_uri": "https://localhost:8080/"
        },
        "id": "FdplRotNL-aL",
        "outputId": "6b3ee002-9453-4a53-fa0c-ce2d09577cff"
      },
      "outputs": [
        {
          "output_type": "stream",
          "name": "stdout",
          "text": [
            "Enter a number: SAHAR\n",
            "Error: Please enter a valid number.\n"
          ]
        }
      ],
      "source": [
        "# Your code here\n",
        "try:\n",
        "    user_input = int(input(\"Enter a number: \"))\n",
        "    print(\"You entered:\", user_input)\n",
        "except KeyboardInterrupt:\n",
        "    print(\"\\nOperation cancelled by user. Exiting program...\")\n",
        "except ValueError:\n",
        "    print(\"Error: Please enter a valid number.\")"
      ]
    },
    {
      "cell_type": "markdown",
      "metadata": {
        "id": "l8xE0JpqL-aM"
      },
      "source": [
        "\n",
        "\n",
        "### Exercise 8: Handle ArithmeticError\n",
        "Write a Python program that executes division and handles an `ArithmeticError` exception if there is an arithmetic error.\n",
        "\n"
      ]
    },
    {
      "cell_type": "code",
      "execution_count": 4,
      "metadata": {
        "id": "UAzVsdawL-aM",
        "colab": {
          "base_uri": "https://localhost:8080/"
        },
        "outputId": "85307e1c-486c-4365-f23f-a9261e6d28cc"
      },
      "outputs": [
        {
          "output_type": "stream",
          "name": "stdout",
          "text": [
            "Enter numerator: 10\n",
            "Enter denominator: 0\n",
            "Arithmetic error occurred: float division by zero\n"
          ]
        }
      ],
      "source": [
        "# Your code here\n",
        "def safe_division(a, b):\n",
        "    try:\n",
        "        result = a / b\n",
        "        print(f\"Result: {result}\")\n",
        "    except ArithmeticError as e:\n",
        "        print(f\"Arithmetic error occurred: {e}\")\n",
        "\n",
        "# Example usage\n",
        "num1 = float(input(\"Enter numerator: \"))\n",
        "num2 = float(input(\"Enter denominator: \"))\n",
        "\n",
        "safe_division(num1, num2)\n"
      ]
    },
    {
      "cell_type": "markdown",
      "metadata": {
        "id": "KCKbZq55L-aN"
      },
      "source": [
        "\n",
        "\n",
        "### Exercise 9: Handle UnicodeDecodeError\n",
        "Write a Python program that opens a file and handles a `UnicodeDecodeError` exception if there is an encoding issue.\n",
        "\n"
      ]
    },
    {
      "cell_type": "code",
      "execution_count": 6,
      "metadata": {
        "id": "4GniTZbzL-aN",
        "colab": {
          "base_uri": "https://localhost:8080/"
        },
        "outputId": "0ea6b473-b195-42bc-fcb3-b1208e012697"
      },
      "outputs": [
        {
          "output_type": "stream",
          "name": "stdout",
          "text": [
            "Enter the file path: Sahar File\n",
            "Error: File not found. Please check the file path.\n"
          ]
        }
      ],
      "source": [
        "# Your code here\n",
        "def read_file_safely(file_path):\n",
        "    try:\n",
        "        with open(file_path, \"r\", encoding=\"utf-8\") as file:\n",
        "            content = file.read()\n",
        "            print(\"File content:\\n\", content)\n",
        "    except UnicodeDecodeError:\n",
        "        print(\"Error: Unable to decode the file. It may have a different encoding.\")\n",
        "    except FileNotFoundError:\n",
        "        print(\"Error: File not found. Please check the file path.\")\n",
        "\n",
        "file_path = input(\"Enter the file path: \")\n",
        "read_file_safely(file_path)\n"
      ]
    },
    {
      "cell_type": "markdown",
      "metadata": {
        "id": "nomIAF3XL-aN"
      },
      "source": [
        "\n",
        "\n",
        "### Exercise 10: Handle AttributeError\n",
        "Write a Python program that executes an operation on an object and handles an `AttributeError` exception if the attribute does not exist.\n",
        "\n"
      ]
    },
    {
      "cell_type": "code",
      "execution_count": 7,
      "metadata": {
        "id": "R-Mwhv_0L-aO",
        "colab": {
          "base_uri": "https://localhost:8080/"
        },
        "outputId": "e0d7e7be-820f-4d7d-b17f-0dca9685e3cf"
      },
      "outputs": [
        {
          "output_type": "stream",
          "name": "stdout",
          "text": [
            "Enter the attribute name to access: Sahar\n",
            "Error: 'Sahar' attribute does not exist in the object.\n"
          ]
        }
      ],
      "source": [
        "# Your code here\n",
        "class Sample:\n",
        "    def __init__(self, name):\n",
        "        self.name = name\n",
        "\n",
        "def access_attribute(obj, attr):\n",
        "    try:\n",
        "        value = getattr(obj, attr)\n",
        "        print(f\"Attribute value: {value}\")\n",
        "    except AttributeError:\n",
        "        print(f\"Error: '{attr}' attribute does not exist in the object.\")\n",
        "\n",
        "\n",
        "sample_obj = Sample(\"Techy\")\n",
        "\n",
        "attribute_name = input(\"Enter the attribute name to access: \")\n",
        "access_attribute(sample_obj, attribute_name)\n"
      ]
    },
    {
      "cell_type": "markdown",
      "metadata": {
        "id": "elkT8hr-L-aO"
      },
      "source": [
        "\n",
        "\n",
        "## Bonus Exercises\n",
        "\n",
        "### Bonus Exercise 1: Handle Multiple Exceptions\n",
        "Write a Python program that demonstrates handling multiple exceptions in one block.\n",
        "\n",
        "\n"
      ]
    },
    {
      "cell_type": "code",
      "execution_count": 9,
      "metadata": {
        "id": "nM_6exgPL-aP",
        "colab": {
          "base_uri": "https://localhost:8080/"
        },
        "outputId": "be8557e4-572d-4d0b-8b54-31b95bad5a00"
      },
      "outputs": [
        {
          "output_type": "stream",
          "name": "stdout",
          "text": [
            "Enter numerator: one\n",
            "Error occurred: invalid literal for int() with base 10: 'one'\n"
          ]
        }
      ],
      "source": [
        "# Your code here\n",
        "def multiple_exceptions_demo():\n",
        "    try:\n",
        "        num1 = int(input(\"Enter numerator: \"))\n",
        "        num2 = int(input(\"Enter denominator: \"))\n",
        "        result = num1 / num2\n",
        "        print(f\"Result: {result}\")\n",
        "    except (ValueError, ZeroDivisionError) as e:\n",
        "        print(f\"Error occurred: {e}\")\n",
        "\n",
        "multiple_exceptions_demo()\n"
      ]
    },
    {
      "cell_type": "markdown",
      "metadata": {
        "id": "G7r5e0vZL-aP"
      },
      "source": [
        "\n",
        "\n",
        "### Bonus Exercise 2: Create Custom Exception\n",
        "Create a custom exception class and raise it in your code when certain conditions are met.\n",
        "\n",
        "\n"
      ]
    },
    {
      "cell_type": "code",
      "execution_count": 11,
      "metadata": {
        "id": "grY77LXeL-aP",
        "colab": {
          "base_uri": "https://localhost:8080/"
        },
        "outputId": "f62354d1-f30a-4e91-8bd6-18ad5072c622"
      },
      "outputs": [
        {
          "output_type": "stream",
          "name": "stdout",
          "text": [
            "Enter a positive number: 9.8\n",
            "Error: Please enter a valid integer.\n"
          ]
        }
      ],
      "source": [
        "# Your code here\n",
        "class NegativeNumberError(Exception):\n",
        "    \"\"\"Custom exception for handling negative numbers.\"\"\"\n",
        "    def __init__(self, value):\n",
        "        super().__init__(f\"Invalid input: {value} is a negative number!\")\n",
        "\n",
        "def check_positive_number(num):\n",
        "    if num < 0:\n",
        "        raise NegativeNumberError(num)\n",
        "    else:\n",
        "        print(f\"Valid input: {num}\")\n",
        "\n",
        "try:\n",
        "    number = int(input(\"Enter a positive number: \"))\n",
        "    check_positive_number(number)\n",
        "except NegativeNumberError as e:\n",
        "    print(e)\n",
        "except ValueError:\n",
        "    print(\"Error: Please enter a valid integer.\")\n"
      ]
    },
    {
      "cell_type": "markdown",
      "metadata": {
        "id": "sbf1fdNAL-aQ"
      },
      "source": [
        "\n",
        "\n",
        "### Bonus Exercise 3: Validate User Input with Exception Handling\n",
        "Write a program that repeatedly prompts the user for valid input until they provide it, using exception handling to manage invalid inputs.\n",
        "\n"
      ]
    },
    {
      "cell_type": "code",
      "execution_count": 13,
      "metadata": {
        "id": "a293WOd-L-aQ",
        "colab": {
          "base_uri": "https://localhost:8080/"
        },
        "outputId": "c2024350-da73-4365-b1b2-54d39a9332f3"
      },
      "outputs": [
        {
          "output_type": "stream",
          "name": "stdout",
          "text": [
            "Enter a valid integer: -8.3\n",
            " Invalid input! Please enter a number.\n",
            "Enter a valid integer: ok\n",
            " Invalid input! Please enter a number.\n",
            "Enter a valid integer: 7.8\n",
            " Invalid input! Please enter a number.\n",
            "Enter a valid integer: 9\n",
            "Valid input received: 9\n",
            " You entered: 9\n"
          ]
        }
      ],
      "source": [
        "# Your code here\n",
        "def get_valid_integer():\n",
        "    while True:\n",
        "        try:\n",
        "            num = int(input(\"Enter a valid integer: \"))\n",
        "            print(f\"Valid input received: {num}\")\n",
        "            return num\n",
        "        except ValueError:\n",
        "            print(\" Invalid input! Please enter a number.\")\n",
        "\n",
        "user_number = get_valid_integer()\n",
        "print(f\" You entered: {user_number}\")\n"
      ]
    },
    {
      "cell_type": "markdown",
      "metadata": {
        "id": "_-TmIeucL-aQ"
      },
      "source": [
        "\n",
        "\n",
        "### Bonus Exercise 4: Log Errors to File\n",
        "Modify your error handling to log errors to a text file instead of printing them to the console.\n",
        "\n"
      ]
    },
    {
      "cell_type": "code",
      "execution_count": 21,
      "metadata": {
        "id": "_8nLfsQxL-aQ",
        "colab": {
          "base_uri": "https://localhost:8080/"
        },
        "outputId": "7cdd9b03-fc88-4e83-ff95-362f737f1033"
      },
      "outputs": [
        {
          "name": "stdout",
          "output_type": "stream",
          "text": [
            " Enter a valid integer: g6\n"
          ]
        },
        {
          "output_type": "stream",
          "name": "stderr",
          "text": [
            "ERROR:root: Invalid input! Please enter a number. Error:  invalid literal for int() with base 10: 'g6'\n"
          ]
        },
        {
          "name": "stdout",
          "output_type": "stream",
          "text": [
            " That wasn't a valid number. Try again.\n",
            " Enter a valid integer: 8.9\n"
          ]
        },
        {
          "output_type": "stream",
          "name": "stderr",
          "text": [
            "ERROR:root: Invalid input! Please enter a number. Error:  invalid literal for int() with base 10: '8.9'\n"
          ]
        },
        {
          "output_type": "stream",
          "name": "stdout",
          "text": [
            " That wasn't a valid number. Try again.\n",
            " Enter a valid integer: 8\n",
            " Success! You entered: 8\n",
            " Final valid input: 8\n"
          ]
        }
      ],
      "source": [
        "# Your code here\n",
        "import logging\n",
        "\n",
        "logging.basicConfig(filename=\"error_log.txt\", level=logging.ERROR, format=\"%(asctime)s - %(levelname)s - %(message)s\")\n",
        "\n",
        "def get_valid_integer():\n",
        "    while True:\n",
        "        try:\n",
        "            num = int(input(\" Enter a valid integer: \"))\n",
        "            print(f\" Success! You entered: {num}\")\n",
        "            return num\n",
        "        except ValueError as e:\n",
        "            error_message = f\" Invalid input! Please enter a number. Error:  {e}\"\n",
        "            print(\" That wasn't a valid number. Try again.\")\n",
        "            logging.error(error_message)\n",
        "if __name__ == \"__main__\":\n",
        "    user_number = get_valid_integer()\n",
        "    print(f\" Final valid input: {user_number}\")\n",
        "\n",
        "\n"
      ]
    },
    {
      "cell_type": "markdown",
      "metadata": {
        "id": "JHa1cLpkL-aR"
      },
      "source": [
        "\n",
        "\n",
        "### Bonus Exercise 5: Retry Logic on Exception\n",
        "Implement retry logic for operations that could fail, allowing users to try again after encountering an error.\n",
        "\n"
      ]
    },
    {
      "cell_type": "code",
      "execution_count": 23,
      "metadata": {
        "id": "7U_VNXe0L-aS",
        "colab": {
          "base_uri": "https://localhost:8080/"
        },
        "outputId": "12f282a7-47aa-4628-a258-993fe06ffe2c"
      },
      "outputs": [
        {
          "output_type": "stream",
          "name": "stdout",
          "text": [
            " Enter numerator: Sahar\n",
            " Error: Invalid number format. You have 2 attempts left.\n",
            " Retrying... Please enter valid numbers.\n",
            " Enter numerator: 8.9c\n",
            " Error: Invalid number format. You have 1 attempts left.\n",
            " Retrying... Please enter valid numbers.\n",
            " Enter numerator: 9\n",
            " Enter denominator: 7\n",
            "Result: 1.2857142857142858\n",
            " Final computed result: 1.2857142857142858\n"
          ]
        }
      ],
      "source": [
        "# Your code here\n",
        "import time\n",
        "\n",
        "def safe_division(max_retries=3):\n",
        "    attempts = 0\n",
        "\n",
        "    while attempts < max_retries:\n",
        "        try:\n",
        "            num1 = float(input(\" Enter numerator: \"))\n",
        "            num2 = float(input(\" Enter denominator: \"))\n",
        "            result = num1 / num2\n",
        "            print(f\"Result: {result}\")\n",
        "            return result\n",
        "        except ZeroDivisionError:\n",
        "            print(f\" Error: Division by zero is not allowed. You have {max_retries - attempts - 1} attempts left.\")\n",
        "        except ValueError:\n",
        "            print(f\" Error: Invalid number format. You have {max_retries - attempts - 1} attempts left.\")\n",
        "\n",
        "        attempts += 1\n",
        "        if attempts < max_retries:\n",
        "            print(\" Retrying... Please enter valid numbers.\")\n",
        "            time.sleep(1)\n",
        "\n",
        "    print(\"Too many failed attempts. Please try again later.\")\n",
        "    return None\n",
        "\n",
        "# Example usage\n",
        "if __name__ == \"__main__\":\n",
        "    result = safe_division()\n",
        "    if result is not None:\n",
        "        print(f\" Final computed result: {result}\")\n",
        "    else:\n",
        "        print(\" No valid result obtained. Exiting.\")\n"
      ]
    }
  ],
  "metadata": {
    "kernelspec": {
      "display_name": ".venv",
      "language": "python",
      "name": "python3"
    },
    "language_info": {
      "codemirror_mode": {
        "name": "ipython",
        "version": 3
      },
      "file_extension": ".py",
      "mimetype": "text/x-python",
      "name": "python",
      "nbconvert_exporter": "python",
      "pygments_lexer": "ipython3",
      "version": "3.8.0"
    },
    "colab": {
      "provenance": []
    }
  },
  "nbformat": 4,
  "nbformat_minor": 0
}